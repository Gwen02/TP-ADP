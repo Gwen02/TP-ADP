{
 "cells": [
  {
   "cell_type": "code",
   "execution_count": 158,
   "metadata": {},
   "outputs": [],
   "source": [
    "import sklearn\n",
    "import hdbscan\n",
    "import matplotlib\n",
    "import matplotlib.pyplot as plt\n",
    "import pandas as pd\n",
    "import numpy as np\n",
    "import time\n",
    "\n",
    "from scipy.io import arff\n",
    "from sklearn.cluster import DBSCAN\n",
    "from sklearn.cluster import KMeans\n",
    "from sklearn.cluster import AgglomerativeClustering\n",
    "from mpl_toolkits import mplot3d\n",
    "from sklearn import metrics"
   ]
  },
  {
   "cell_type": "code",
   "execution_count": 2,
   "metadata": {},
   "outputs": [],
   "source": [
    "data1 = arff.loadarff(open('datasets/artificial/R15.arff','r'))\n",
    "data2 = arff.loadarff(open('datasets/artificial/diamond9.arff','r'))\n",
    "data3 = arff.loadarff(open('datasets/artificial/spherical_4_3.arff','r')) \n",
    "\n",
    "#Datasets for agglomerative clustering\n",
    "data4 = arff.loadarff(open('datasets/artificial/zelnik3.arff','r'))\n",
    "data5 = arff.loadarff(open('datasets/artificial/complex9.arff','r')) \n",
    "data6 = arff.loadarff(open('datasets/artificial/banana.arff','r'))\n",
    "\n",
    "#Datasets for DBSCAN\n",
    "data7 = arff.loadarff(open('datasets/artificial/zelnik2.arff','r'))\n",
    "data8 = arff.loadarff(open('datasets/artificial/zelnik4.arff','r'))\n",
    "data9 = arff.loadarff(open('datasets/artificial/cure-t2-4k.arff','r'))\n",
    "\n",
    "#Comparison between HDB and DBSCAN\n",
    "data10 = arff.loadarff(open('datasets/artificial/st900.arff','r'))\n",
    "data11 = arff.loadarff(open('datasets/artificial/2sp2glob.arff','r'))\n",
    "data12 = arff.loadarff(open('datasets/artificial/donut3.arff','r'))\n"
   ]
  },
  {
   "cell_type": "code",
   "execution_count": 179,
   "metadata": {},
   "outputs": [],
   "source": [
    "\n",
    "\n",
    "#Definition des fonctions\n",
    "\n",
    "\"\"\"La fonction ci-dessous nous permet de récupérer les bons noms de colonnes des dataframe\n",
    "car leurs noms peut changer entre les différents dataset\"\"\"\n",
    "\n",
    "def init_df_cluster(df):\n",
    "    return df[df.columns[0]], df[df.columns[1]] \n",
    "\n",
    "\"\"\"La fonction ci-dessous implémente la méthode des kmeans, pour une nombre maximum de \n",
    "cluster étant égal à max_clusters. La méthode retourne ensuite la valeur optimale de nombre de cluster\n",
    "calculée par KMeans\"\"\"\n",
    "\n",
    "def Kmeans(dataset, max_clusters = 20):\n",
    "    \n",
    "    list_kmeans, list_scores = [], []\n",
    "    \n",
    "    for i in range(2,max_clusters+1):\n",
    "        kmeans = KMeans(n_clusters = i, random_state=0).fit(dataset)\n",
    "        list_kmeans.append(kmeans)\n",
    "        list_scores.append(sklearn.metrics.silhouette_score(dataset, kmeans.labels_))\n",
    "    \n",
    "    max_value = max(list_scores)\n",
    "    return list_kmeans[list_scores.index(max_value)]\n",
    "\n",
    "\n",
    "\"\"\"La fonction des kmeans ci-dessous propose une option permettant de s'arrêter lorsque l'amélioration\n",
    "de l'inertie des clusters est inférieure à un certain pourcentage donné en paramètre. Par exemple, \n",
    "si l'inertie passe de 200 à 192, la fonction va retourner la clusterisation avec l'inertie de 192\"\"\"\n",
    "\n",
    "def Kmeans_inertia(dataset, max_clusters = 20, pourcentage = 0.05):\n",
    "    \n",
    "    list_kmeans, list_scores, list_time = [], [], []\n",
    "    \n",
    "    for i in range(1,max_clusters):\n",
    "        timer = time.time()\n",
    "        kmeans = KMeans(n_clusters = i, random_state=0).fit(dataset)\n",
    "        list_kmeans.append(kmeans)\n",
    "        list_scores.append(kmeans.inertia_)\n",
    "        list_time.append(round(time.time() - timer,4))\n",
    "\n",
    "    best_cluster_number = len(list_scores)\n",
    "    #plt.figure()\n",
    "    #plt.plot(np.linspace(1,max_clusters - 1,max_clusters - 1), list_time)\n",
    "    #plt.show()\n",
    "    #print(list_time)\n",
    "\n",
    "    for i in range(1, len(list_scores)):\n",
    "        ecart = list_scores[i - 1] - list_scores[i] \n",
    "        if (ecart < list_scores[i - 1] * pourcentage):\n",
    "            break\n",
    "    return (list_kmeans[i-1])\n",
    "\n",
    "\"\"\"La fonction ci-dessous implémente la méthode de clustering agglomératif, avec une option 'show_time'\n",
    "permettant de plot le temps d'exécution en fonction du nombre de cluster choisi.\n",
    "En abscisse, le nombre de cluster; en ordonnée, le temps de ms\"\"\"\n",
    "\n",
    "def agglomerative(dataset, max_clusters = 20, show_time = False):\n",
    "    \n",
    "    time_list = [] \n",
    "    list_X, list_scores = [], []\n",
    "    \n",
    "    for i in range(2,max_clusters):\n",
    "        timer = time.time()\n",
    "        clusters = AgglomerativeClustering(n_clusters=i).fit(dataset)\n",
    "        list_X.append(clusters)\n",
    "        list_scores.append(sklearn.metrics.silhouette_score(dataset,clusters.labels_))\n",
    "        max_value = max(list_scores)       \n",
    "        time_list.append(time.time() - timer)\n",
    "               \n",
    "    if(show_time):\n",
    "        plt.figure()\n",
    "        plt.plot(np.linspace(1,max_clusters - 2,max_clusters - 2), time_list)\n",
    "        plt.show()\n",
    "    return list_X[list_scores.index(max_value)]\n",
    "\n",
    "\"\"\"Cette fonction permet de plotter les clusters calculés par la méthode agglomerative sur un dataset \n",
    "donné\"\"\"\n",
    "\n",
    "def plot_agglomerative(dataset, time = False): \n",
    "    dataset = process_name(dataset)\n",
    "    solution = agglomerative(dataset, show_time = time)\n",
    "\n",
    "    X, Y = init_df_cluster(dataset)\n",
    "    plt.figure()\n",
    "    plt.scatter(X, Y, c = solution.labels_)\n",
    "    plt.legend()\n",
    "    plt.show()\n",
    "    \n",
    "def plot_clusters_kmeans(dataset):\n",
    "    dataset = process_name(dataset)\n",
    "    solution = Kmeans(dataset)\n",
    "\n",
    "    X, Y = init_df_cluster(dataset)\n",
    "    print(solution)\n",
    "    plt.scatter(X, Y, c = solution.labels_)\n",
    "    plt.scatter(solution.cluster_centers_[:,0], solution.cluster_centers_[:,1], c='r', label = 'centers')\n",
    "    plt.legend()\n",
    "    \n",
    "def plot_clusters_kmeans_inertia(dataset):\n",
    "    data = process_name(dataset)\n",
    "    solution = Kmeans_inertia(data)\n",
    "    X, Y = init_df_cluster(data)\n",
    "    plt.figure()\n",
    "    plt.scatter(X, Y, c = solution.labels_)\n",
    "    plt.scatter(solution.cluster_centers_[:,0], solution.cluster_centers_[:,1], c='r', label = 'centers')\n",
    "    plt.legend()\n",
    "    plt.show()\n",
    "\n",
    "#VERSION MISTERY\n",
    "\n",
    "def plot_clusters_kmeans3D(dataset):\n",
    "    dataset = process_name(dataset)\n",
    "    clusters = Kmeans(dataset)\n",
    "    X, Y = init_df_cluster(dataset)\n",
    "    fig = plt.figure()\n",
    "    ax = plt.axes(projection ='3d')\n",
    "    ax.scatter(dataset.iloc[:,0], dataset.iloc[:,1], dataset.iloc[:,2], c = clusters.labels_)\n",
    "    #plt.scatter(nom.cluster_centers_[:,0], nom.cluster_centers_[:,1], nom.cluster_centers_[:,2], c='r', label = 'centers')\n",
    "    #plt.scatter(X, Y, c = nom.labels_)\n",
    "    #plt.scatter(nom.cluster_centers_[:,0], nom.cluster_centers_[:,1], c='r', label = 'centers')\n",
    "    plt.legend()\n",
    "    plt.show()\n",
    "    \n",
    "def plot_dbscan(dataset, eps_param = 0.5, min_samples_param = 10):\n",
    "    dataset = process_name(dataset)\n",
    "    DBSCAN_result = DBSCAN(eps = eps_param, min_samples = min_samples_param).fit(dataset)\n",
    "    X, Y = init_df_cluster(dataset)\n",
    "    plt.scatter(X,Y, c = DBSCAN_result.labels_)\n",
    "    \n",
    "def plot_dbscan_iteration(dataset):\n",
    "    list_scores = []\n",
    "    dataset = process_name(dataset)\n",
    "    X, Y = init_df_cluster(dataset)\n",
    "    eps_list = np.linspace(0.1, 1, 10)\n",
    "    for eps in eps_list:\n",
    "        for samples in range(2,6):\n",
    "            time_start = time.time()\n",
    "            DBSCAN_result = DBSCAN(eps = eps, min_samples = samples).fit(dataset)\n",
    "            plt.figure()\n",
    "            plt.scatter(X,Y, c = DBSCAN_result.labels_)\n",
    "            plt.xlabel(f\"eps = {eps}, le nombre de samples est de {samples}\") \n",
    "            plt.legend()\n",
    "            plt.show()\n",
    "            print(f\"Le temps d'exécution est de : {time.time() - time_start}\")\n",
    "            #print(DBSCAN_result.labels_)\n",
    "            #print(metrics.silhouette_score(DBSCAN_result, DBSCAN_result.labels_)) <- voir bug\n",
    "\n",
    "    \n",
    "def plot_hdbscan(dataset, min_cluster_size = 10):\n",
    "    dataset = process_name(dataset)\n",
    "    \n",
    "    X, Y = init_df_cluster(dataset)\n",
    "    \n",
    "    clusterer = hdbscan.HDBSCAN(min_cluster_size)\n",
    "    clusterer_labels = clusterer.fit_predict(dataset)\n",
    "    \n",
    "    plt.figure()\n",
    "    plt.scatter(X, Y, c = clusterer_labels)\n"
   ]
  },
  {
   "cell_type": "code",
   "execution_count": 160,
   "metadata": {},
   "outputs": [
    {
     "name": "stderr",
     "output_type": "stream",
     "text": [
      "C:\\Users\\xSyl0\\anaconda3\\lib\\site-packages\\sklearn\\cluster\\_kmeans.py:1038: UserWarning: KMeans is known to have a memory leak on Windows with MKL, when there are less chunks than available threads. You can avoid it by setting the environment variable OMP_NUM_THREADS=3.\n",
      "  warnings.warn(\n"
     ]
    },
    {
     "data": {
      "image/png": "[encoded data removed]",
      "text/plain": [
       "<Figure size 432x288 with 1 Axes>"
      ]
     },
     "metadata": {
      "needs_background": "light"
     },
     "output_type": "display_data"
    }
   ],
   "source": [
    "def process_name(dataset):\n",
    "    df = pd.DataFrame(dataset[0])\n",
    "    list_name = df.iloc[:, -1]\n",
    "    list_pre, list_post, compteur = [], [], 0\n",
    "    for element in list_name:\n",
    "        if element not in list_pre:\n",
    "            list_pre.append(element)\n",
    "            list_post.append(compteur)\n",
    "            compteur+=1\n",
    "    for i in range(len(list_pre)):\n",
    "        df.iloc[:, -1] = list_name.replace(list_pre[i], list_post[i])\n",
    "    return df\n",
    "    \n",
    "    \n",
    "    \n",
    "plot_clusters_kmeans_inertia(data1)"
   ]
  },
  {
   "cell_type": "code",
   "execution_count": null,
   "metadata": {},
   "outputs": [],
   "source": [
    "data = data1\n",
    "df = pd.DataFrame(data[0])\n",
    "X, Y = df['x'], df['y']\n",
    "\n",
    "X2, Y2 = [], []\n",
    "liste = []\n",
    "\n",
    "j = 20\n",
    "\n",
    "for i in range(1,j):\n",
    "    kmeans = KMeans(n_clusters = i, random_state=0).fit(df)\n",
    "    X2.append(i)\n",
    "    Y2.append(kmeans.inertia_)\n",
    "    liste.append(kmeans)\n",
    "    \n",
    "pourcentage = 0.05\n",
    "best_cluster_number = len(Y2)\n",
    "\n",
    "for i in range(1, len(Y2)):\n",
    "    ecart = Y2[i - 1] - Y2[i] \n",
    "    if (ecart < Y2[i - 1] * pourcentage):\n",
    "        best_cluster_number = i\n",
    "        break\n",
    "        \n",
    "\n",
    "plt.figure()\n",
    "plt.plot(X2, Y2)\n",
    "\n",
    "kmeans = KMeans(n_clusters = best_cluster_number, random_state=0).fit(df)\n",
    "plt.figure()\n",
    "plt.scatter(X, Y, c = kmeans.labels_)\n",
    "plt.scatter(kmeans.cluster_centers_[:,0], kmeans.cluster_centers_[:,1], c='r')"
   ]
  },
  {
   "cell_type": "code",
   "execution_count": null,
   "metadata": {},
   "outputs": [],
   "source": [
    "time_tab = []\n",
    "\n",
    "time_start = time.time()\n",
    "n = 20\n",
    "\n",
    "for i in range(1,n):\n",
    "    time_start = time.time()\n",
    "    kmeans = KMeans(n_clusters = i, random_state=0).fit(df)\n",
    "    X1.append(i)\n",
    "    Y1.append(kmeans.inertia_)\n",
    "    time_end = time.time()\n",
    "    time_exec = time_end - time_start\n",
    "    time_tab.append(time_exec)\n",
    "    \n",
    "print(time_tab)\n",
    "    \n",
    "X = np.linspace(1,n - 1,n - 1)\n",
    "plt.figure()\n",
    "plt.plot(X, time_tab)"
   ]
  },
  {
   "cell_type": "code",
   "execution_count": null,
   "metadata": {},
   "outputs": [],
   "source": [
    "df = pd.DataFrame(data4[0])\n",
    "X1, Y1 = [], []\n",
    "X3, Y3 = df['x'], df['y']\n",
    "\n",
    "list_clusters = []\n",
    "time_tab = []\n",
    "\n",
    "for i in range(2,n):\n",
    "    time_start = time.time()\n",
    "    clusters = AgglomerativeClustering(n_clusters=i).fit(df)\n",
    "    list_clusters.append(clusters)\n",
    "    score = sklearn.metrics.silhouette_score(df,clusters.labels_)\n",
    "    X1.append(i)\n",
    "    Y1.append(score)\n",
    "    \n",
    "    time_end = time.time()\n",
    "    time_exec = time_end - time_start\n",
    "    time_tab.append(time_exec)\n",
    "\n",
    "best_score = max(Y1)\n",
    "index_best_score = Y1.index(best_score)\n",
    "\n",
    "print(f\"Le nombre de cluster optimal est {index_best_score + 2}\")\n",
    "print(best_score)\n",
    "\n",
    "plt.figure()\n",
    "plt.scatter(X3, Y3, c = list_clusters[index_best_score].labels_)\n",
    "plt.show()\n",
    "\n",
    "X = np.linspace(1,n - 2,n - 2)\n",
    "plt.figure()\n",
    "plt.plot(X, time_tab)"
   ]
  },
  {
   "cell_type": "code",
   "execution_count": 76,
   "metadata": {},
   "outputs": [
    {
     "data": {
      "text/plain": [
       "<matplotlib.collections.PathCollection at 0x202149b5580>"
      ]
     },
     "execution_count": 76,
     "metadata": {},
     "output_type": "execute_result"
    },
    {
     "data": {
      "image/png": "[encoded data removed]",
      "text/plain": [
       "<Figure size 432x288 with 1 Axes>"
      ]
     },
     "metadata": {
      "needs_background": "light"
     },
     "output_type": "display_data"
    }
   ],
   "source": [
    "# DBSCAN\n",
    "df = process_name(data7)\n",
    "X4, Y4 = init_df_cluster(df)\n",
    "\n",
    "DBSCAN_result = DBSCAN(eps = 1, min_samples = 10).fit(df)\n",
    "plt.scatter(X4,Y4, c = DBSCAN_result.labels_)"
   ]
  },
  {
   "cell_type": "code",
   "execution_count": null,
   "metadata": {},
   "outputs": [],
   "source": [
    "df = process_name(data7)\n",
    "X5, Y5 = init_df_cluster(df)\n",
    "\n",
    "df[\"class\"] = df[\"class\"].replace(b'noise', b'10')\n",
    "\n",
    "clusterer = hdbscan.HDBSCAN(min_cluster_size=10)\n",
    "clusterer_labels = clusterer.fit_predict(df)\n",
    "\n",
    "\n",
    "#plt.figure()\n",
    "#plt.scatter(X4, Y4, c = DBSCAN_result.labels_)"
   ]
  },
  {
   "cell_type": "code",
   "execution_count": 23,
   "metadata": {},
   "outputs": [],
   "source": [
    "#Dataset du monde réel\n",
    "data_real1 = arff.loadarff(open('datasets/real-world/iris.arff','r'))\n",
    "data_real2 = arff.loadarff(open('datasets/real-world/balance-scale.arff','r'))"
   ]
  },
  {
   "cell_type": "code",
   "execution_count": 21,
   "metadata": {},
   "outputs": [],
   "source": [
    "colnames = ['X', 'Y', 'Z']\n",
    "\n",
    "mystery_data1 = [pd.read_csv('mistery_dataset/a.data', names=colnames, sep=\"\\t\")]\n",
    "mystery_data2 = [pd.read_csv('mistery_dataset/h.data', names=colnames, sep=\"\\t\")]\n",
    "mystery_data3 = [pd.read_csv('mistery_dataset/t.data', names=colnames, sep=\"\\t\")]\n",
    "mystery_data4 = [pd.read_csv('mistery_dataset/tr.data', names=['X', 'Y'], sep=\" \")]\n",
    "mystery_data5 = [pd.read_csv('mistery_dataset/zgn.data', names=['X', 'Y'], sep=\" \")]\n",
    "mystery_data6 = [pd.read_csv('mistery_dataset/zgo.data', names=['X', 'Y'], sep=\" \")]"
   ]
  },
  {
   "cell_type": "code",
   "execution_count": 177,
   "metadata": {},
   "outputs": [
    {
     "name": "stderr",
     "output_type": "stream",
     "text": [
      "No handles with labels found to put in legend.\n"
     ]
    },
    {
     "data": {
      "image/png": "[encoded data removed]",
      "text/plain": [
       "<Figure size 432x288 with 1 Axes>"
      ]
     },
     "metadata": {
      "needs_background": "light"
     },
     "output_type": "display_data"
    },
    {
     "name": "stdout",
     "output_type": "stream",
     "text": [
      "Le temps d'exécution est de : 0.3080461025238037\n",
      "[-1 -1 -1 ... -1 -1 -1]\n"
     ]
    },
    {
     "ename": "ValueError",
     "evalue": "Expected 2D array, got scalar array instead:\narray=DBSCAN(eps=0.1, min_samples=2).\nReshape your data either using array.reshape(-1, 1) if your data has a single feature or array.reshape(1, -1) if it contains a single sample.",
     "output_type": "error",
     "traceback": [
      "\u001b[1;31m---------------------------------------------------------------------------\u001b[0m",
      "\u001b[1;31mValueError\u001b[0m                                Traceback (most recent call last)",
      "\u001b[1;32m<ipython-input-177-796589ef252a>\u001b[0m in \u001b[0;36m<module>\u001b[1;34m\u001b[0m\n\u001b[0;32m     11\u001b[0m \u001b[1;33m\u001b[0m\u001b[0m\n\u001b[0;32m     12\u001b[0m \u001b[1;31m#plot_dbscan(data7, 0.3, 5)\u001b[0m\u001b[1;33m\u001b[0m\u001b[1;33m\u001b[0m\u001b[1;33m\u001b[0m\u001b[0m\n\u001b[1;32m---> 13\u001b[1;33m \u001b[0mplot_dbscan_iteration\u001b[0m\u001b[1;33m(\u001b[0m\u001b[0mmystery_data4\u001b[0m\u001b[1;33m)\u001b[0m\u001b[1;33m\u001b[0m\u001b[1;33m\u001b[0m\u001b[0m\n\u001b[0m\u001b[0;32m     14\u001b[0m \u001b[1;31m#plot_dbscan(mystery_data5, 10)\u001b[0m\u001b[1;33m\u001b[0m\u001b[1;33m\u001b[0m\u001b[1;33m\u001b[0m\u001b[0m\n",
      "\u001b[1;32m<ipython-input-176-f5a150c46066>\u001b[0m in \u001b[0;36mplot_dbscan_iteration\u001b[1;34m(dataset)\u001b[0m\n\u001b[0;32m    144\u001b[0m             \u001b[0mprint\u001b[0m\u001b[1;33m(\u001b[0m\u001b[1;34mf\"Le temps d'exécution est de : {time.time() - time_start}\"\u001b[0m\u001b[1;33m)\u001b[0m\u001b[1;33m\u001b[0m\u001b[1;33m\u001b[0m\u001b[0m\n\u001b[0;32m    145\u001b[0m             \u001b[0mprint\u001b[0m\u001b[1;33m(\u001b[0m\u001b[0mDBSCAN_result\u001b[0m\u001b[1;33m.\u001b[0m\u001b[0mlabels_\u001b[0m\u001b[1;33m)\u001b[0m\u001b[1;33m\u001b[0m\u001b[1;33m\u001b[0m\u001b[0m\n\u001b[1;32m--> 146\u001b[1;33m             \u001b[0mprint\u001b[0m\u001b[1;33m(\u001b[0m\u001b[0mmetrics\u001b[0m\u001b[1;33m.\u001b[0m\u001b[0msilhouette_score\u001b[0m\u001b[1;33m(\u001b[0m\u001b[0mDBSCAN_result\u001b[0m\u001b[1;33m,\u001b[0m \u001b[0mDBSCAN_result\u001b[0m\u001b[1;33m.\u001b[0m\u001b[0mlabels_\u001b[0m\u001b[1;33m.\u001b[0m\u001b[0mreshape\u001b[0m\u001b[1;33m(\u001b[0m\u001b[1;33m-\u001b[0m\u001b[1;36m1\u001b[0m\u001b[1;33m,\u001b[0m\u001b[1;36m1\u001b[0m\u001b[1;33m)\u001b[0m\u001b[1;33m)\u001b[0m\u001b[1;33m)\u001b[0m\u001b[1;33m\u001b[0m\u001b[1;33m\u001b[0m\u001b[0m\n\u001b[0m\u001b[0;32m    147\u001b[0m \u001b[1;33m\u001b[0m\u001b[0m\n\u001b[0;32m    148\u001b[0m \u001b[1;33m\u001b[0m\u001b[0m\n",
      "\u001b[1;32m~\\anaconda3\\lib\\site-packages\\sklearn\\metrics\\cluster\\_unsupervised.py\u001b[0m in \u001b[0;36msilhouette_score\u001b[1;34m(X, labels, metric, sample_size, random_state, **kwds)\u001b[0m\n\u001b[0;32m    116\u001b[0m         \u001b[1;32melse\u001b[0m\u001b[1;33m:\u001b[0m\u001b[1;33m\u001b[0m\u001b[1;33m\u001b[0m\u001b[0m\n\u001b[0;32m    117\u001b[0m             \u001b[0mX\u001b[0m\u001b[1;33m,\u001b[0m \u001b[0mlabels\u001b[0m \u001b[1;33m=\u001b[0m \u001b[0mX\u001b[0m\u001b[1;33m[\u001b[0m\u001b[0mindices\u001b[0m\u001b[1;33m]\u001b[0m\u001b[1;33m,\u001b[0m \u001b[0mlabels\u001b[0m\u001b[1;33m[\u001b[0m\u001b[0mindices\u001b[0m\u001b[1;33m]\u001b[0m\u001b[1;33m\u001b[0m\u001b[1;33m\u001b[0m\u001b[0m\n\u001b[1;32m--> 118\u001b[1;33m     \u001b[1;32mreturn\u001b[0m \u001b[0mnp\u001b[0m\u001b[1;33m.\u001b[0m\u001b[0mmean\u001b[0m\u001b[1;33m(\u001b[0m\u001b[0msilhouette_samples\u001b[0m\u001b[1;33m(\u001b[0m\u001b[0mX\u001b[0m\u001b[1;33m,\u001b[0m \u001b[0mlabels\u001b[0m\u001b[1;33m,\u001b[0m \u001b[0mmetric\u001b[0m\u001b[1;33m=\u001b[0m\u001b[0mmetric\u001b[0m\u001b[1;33m,\u001b[0m \u001b[1;33m**\u001b[0m\u001b[0mkwds\u001b[0m\u001b[1;33m)\u001b[0m\u001b[1;33m)\u001b[0m\u001b[1;33m\u001b[0m\u001b[1;33m\u001b[0m\u001b[0m\n\u001b[0m\u001b[0;32m    119\u001b[0m \u001b[1;33m\u001b[0m\u001b[0m\n\u001b[0;32m    120\u001b[0m \u001b[1;33m\u001b[0m\u001b[0m\n",
      "\u001b[1;32m~\\anaconda3\\lib\\site-packages\\sklearn\\metrics\\cluster\\_unsupervised.py\u001b[0m in \u001b[0;36msilhouette_samples\u001b[1;34m(X, labels, metric, **kwds)\u001b[0m\n\u001b[0;32m    212\u001b[0m \u001b[1;33m\u001b[0m\u001b[0m\n\u001b[0;32m    213\u001b[0m     \"\"\"\n\u001b[1;32m--> 214\u001b[1;33m     \u001b[0mX\u001b[0m\u001b[1;33m,\u001b[0m \u001b[0mlabels\u001b[0m \u001b[1;33m=\u001b[0m \u001b[0mcheck_X_y\u001b[0m\u001b[1;33m(\u001b[0m\u001b[0mX\u001b[0m\u001b[1;33m,\u001b[0m \u001b[0mlabels\u001b[0m\u001b[1;33m,\u001b[0m \u001b[0maccept_sparse\u001b[0m\u001b[1;33m=\u001b[0m\u001b[1;33m[\u001b[0m\u001b[1;34m\"csc\"\u001b[0m\u001b[1;33m,\u001b[0m \u001b[1;34m\"csr\"\u001b[0m\u001b[1;33m]\u001b[0m\u001b[1;33m)\u001b[0m\u001b[1;33m\u001b[0m\u001b[1;33m\u001b[0m\u001b[0m\n\u001b[0m\u001b[0;32m    215\u001b[0m \u001b[1;33m\u001b[0m\u001b[0m\n\u001b[0;32m    216\u001b[0m     \u001b[1;31m# Check for non-zero diagonal entries in precomputed distance matrix\u001b[0m\u001b[1;33m\u001b[0m\u001b[1;33m\u001b[0m\u001b[1;33m\u001b[0m\u001b[0m\n",
      "\u001b[1;32m~\\anaconda3\\lib\\site-packages\\sklearn\\utils\\validation.py\u001b[0m in \u001b[0;36mcheck_X_y\u001b[1;34m(X, y, accept_sparse, accept_large_sparse, dtype, order, copy, force_all_finite, ensure_2d, allow_nd, multi_output, ensure_min_samples, ensure_min_features, y_numeric, estimator)\u001b[0m\n\u001b[0;32m    954\u001b[0m         \u001b[1;32mraise\u001b[0m \u001b[0mValueError\u001b[0m\u001b[1;33m(\u001b[0m\u001b[1;34m\"y cannot be None\"\u001b[0m\u001b[1;33m)\u001b[0m\u001b[1;33m\u001b[0m\u001b[1;33m\u001b[0m\u001b[0m\n\u001b[0;32m    955\u001b[0m \u001b[1;33m\u001b[0m\u001b[0m\n\u001b[1;32m--> 956\u001b[1;33m     X = check_array(\n\u001b[0m\u001b[0;32m    957\u001b[0m         \u001b[0mX\u001b[0m\u001b[1;33m,\u001b[0m\u001b[1;33m\u001b[0m\u001b[1;33m\u001b[0m\u001b[0m\n\u001b[0;32m    958\u001b[0m         \u001b[0maccept_sparse\u001b[0m\u001b[1;33m=\u001b[0m\u001b[0maccept_sparse\u001b[0m\u001b[1;33m,\u001b[0m\u001b[1;33m\u001b[0m\u001b[1;33m\u001b[0m\u001b[0m\n",
      "\u001b[1;32m~\\anaconda3\\lib\\site-packages\\sklearn\\utils\\validation.py\u001b[0m in \u001b[0;36mcheck_array\u001b[1;34m(array, accept_sparse, accept_large_sparse, dtype, order, copy, force_all_finite, ensure_2d, allow_nd, ensure_min_samples, ensure_min_features, estimator)\u001b[0m\n\u001b[0;32m    751\u001b[0m             \u001b[1;31m# If input is scalar raise error\u001b[0m\u001b[1;33m\u001b[0m\u001b[1;33m\u001b[0m\u001b[1;33m\u001b[0m\u001b[0m\n\u001b[0;32m    752\u001b[0m             \u001b[1;32mif\u001b[0m \u001b[0marray\u001b[0m\u001b[1;33m.\u001b[0m\u001b[0mndim\u001b[0m \u001b[1;33m==\u001b[0m \u001b[1;36m0\u001b[0m\u001b[1;33m:\u001b[0m\u001b[1;33m\u001b[0m\u001b[1;33m\u001b[0m\u001b[0m\n\u001b[1;32m--> 753\u001b[1;33m                 raise ValueError(\n\u001b[0m\u001b[0;32m    754\u001b[0m                     \u001b[1;34m\"Expected 2D array, got scalar array instead:\\narray={}.\\n\"\u001b[0m\u001b[1;33m\u001b[0m\u001b[1;33m\u001b[0m\u001b[0m\n\u001b[0;32m    755\u001b[0m                     \u001b[1;34m\"Reshape your data either using array.reshape(-1, 1) if \"\u001b[0m\u001b[1;33m\u001b[0m\u001b[1;33m\u001b[0m\u001b[0m\n",
      "\u001b[1;31mValueError\u001b[0m: Expected 2D array, got scalar array instead:\narray=DBSCAN(eps=0.1, min_samples=2).\nReshape your data either using array.reshape(-1, 1) if your data has a single feature or array.reshape(1, -1) if it contains a single sample."
     ]
    }
   ],
   "source": [
    "#KMEANS\n",
    "\n",
    "#plot_clusters_kmeans_inertia(mystery_data4)\n",
    "#plot_clusters_kmeans3D(mystery_data3)\n",
    "\n",
    "#AGGLO\n",
    "\n",
    "#plot_agglomerative(mystery_data4)\n",
    "\n",
    "#DBSCAN\n",
    "\n",
    "#plot_dbscan(data7, 0.3, 5)\n",
    "plot_dbscan_iteration(mystery_data4)\n",
    "#plot_dbscan(mystery_data5, 10)"
   ]
  },
  {
   "cell_type": "markdown",
   "metadata": {},
   "source": [
    "DATAM1 : Kmeans\n",
    "\n",
    "DATAM2 : Kmeans\n",
    "\n",
    "DATAM3 : Kmeans\n",
    "\n",
    "DATAM4 : Agglomerative"
   ]
  },
  {
   "cell_type": "code",
   "execution_count": null,
   "metadata": {},
   "outputs": [],
   "source": []
  }
 ],
 "metadata": {
  "kernelspec": {
   "display_name": "Python 3",
   "language": "python",
   "name": "python3"
  },
  "language_info": {
   "codemirror_mode": {
    "name": "ipython",
    "version": 3
   },
   "file_extension": ".py",
   "mimetype": "text/x-python",
   "name": "python",
   "nbconvert_exporter": "python",
   "pygments_lexer": "ipython3",
   "version": "3.8.5"
  }
 },
 "nbformat": 4,
 "nbformat_minor": 4
}
